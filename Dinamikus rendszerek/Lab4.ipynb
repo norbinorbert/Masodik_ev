{
 "cells": [
  {
   "cell_type": "markdown",
   "id": "cf94e9ec",
   "metadata": {
    "slideshow": {
     "slide_type": "slide"
    }
   },
   "source": [
    "# IV. Labor - Differenciálegyenletek szimbolikus megoldása\n"
   ]
  },
  {
   "cell_type": "markdown",
   "id": "60b08454",
   "metadata": {
    "slideshow": {
     "slide_type": "-"
    }
   },
   "source": [
    "<div style=\"background :Red; padding: 1%!important;\" >\n",
    "    \n",
    "A házi feladatokat <b>fel kell tölteni és be is kell mutatni</b> a Canvas-en megjelenő határidőig.  <br>\n",
    "A feltöltendő fájl neve: <code>L4_azonosító.ipynb</code>.  <br>\n",
    "Elérhető maximális pontszám <code>10+2</code>. <br>\n",
    "<b>A megoldáshoz egy új notebookot hozz létre!</b>"
   ]
  },
  {
   "cell_type": "markdown",
   "id": "fa301f93",
   "metadata": {},
   "source": [
    "Szimbolikus megoldás [dokumentáció](https://docs.sympy.org/latest/modules/solvers/ode.html)   \n",
    "Newton-féle hűlési törvény [videó](https://www.youtube.com/watch?v=PtiNT3bN1nk)  \n",
    "Mozgással kapcsolatos feladatok"
   ]
  },
  {
   "cell_type": "markdown",
   "id": "86f10220",
   "metadata": {
    "slideshow": {
     "slide_type": "slide"
    }
   },
   "source": [
    "## 1. Bevezető"
   ]
  },
  {
   "cell_type": "markdown",
   "id": "a94d45dd",
   "metadata": {
    "slideshow": {
     "slide_type": "-"
    }
   },
   "source": [
    "Közönséges elsőrendű explicit **differenciálegyenlet**:  \n",
    "\n",
    "$$y'(x) = f(x,y(x)),$$\n",
    "\n",
    "ahol $f\\colon\\mathbb{R}^2\\to\\mathbb{R}$ egy adott rögzített függvény, $y(x)$ az ismeretlen függvény, $x$ pedig a változó. "
   ]
  },
  {
   "cell_type": "markdown",
   "id": "8babae8b",
   "metadata": {
    "slideshow": {
     "slide_type": "fragment"
    }
   },
   "source": [
    "**Közönséges**: az ismeretlen függvény egyváltozós.  \n",
    "**Elsőrendű**: a megjelenő deriváltak közül a legmagasabb rend egyes.  \n",
    "**Explicit**: a függvény deriváltja kifejezhető a függvény és a változója segítségével."
   ]
  },
  {
   "cell_type": "markdown",
   "id": "3c18d9eb",
   "metadata": {
    "slideshow": {
     "slide_type": "fragment"
    }
   },
   "source": [
    "**Sajátos megoldás**: egy olyan $y(x)$ függvény, ami teljesíti az egyenletet.  \n",
    "**Általános megoldás**: az egyenletet teljesítő összes függvény \"családja\".\n"
   ]
  },
  {
   "cell_type": "markdown",
   "id": "56957a15",
   "metadata": {
    "slideshow": {
     "slide_type": "fragment"
    }
   },
   "source": [
    "**Példa:** $f(u,v)=2u$, vagyis $y'(x)=2x$."
   ]
  },
  {
   "cell_type": "markdown",
   "id": "5937a8c5",
   "metadata": {
    "slideshow": {
     "slide_type": "slide"
    }
   },
   "source": [
    "Az $y'(x) = 2x$ egyenlet **általános megoldása**  \n",
    "$$y = \\int 2x \\mathrm{d}x = x^2+C,\\quad\\text{ahol }C\\in\\mathbb{R}.$$"
   ]
  },
  {
   "cell_type": "code",
   "execution_count": 1,
   "id": "cd8d649e",
   "metadata": {
    "slideshow": {
     "slide_type": "-"
    }
   },
   "outputs": [
    {
     "data": {
      "text/latex": [
       "$\\displaystyle y{\\left(x \\right)} = C_{1} + x^{2}$"
      ],
      "text/plain": [
       "Eq(y(x), C1 + x**2)"
      ]
     },
     "execution_count": 1,
     "metadata": {},
     "output_type": "execute_result"
    }
   ],
   "source": [
    "from sympy import Function, Symbol, dsolve                #ez kell a szimbolikus megoldáshoz\n",
    "\n",
    "x = Symbol('x')\n",
    "y = Function('y')\n",
    "dsolve(y(x).diff(x)-2*x, y(x))                            #bal oldalra visszük a tagokat: y'(x)-2x=0"
   ]
  },
  {
   "cell_type": "markdown",
   "id": "848fa2cd",
   "metadata": {
    "slideshow": {
     "slide_type": "fragment"
    }
   },
   "source": [
    "A következő függvények mindegyike egy-egy **sajátos megoldás**, mert mindegyik teljesíti az egyenletet:  \n",
    "\n",
    "$$y_1(x)=x^2,\\quad y_2(x)=x^2+2,\\quad y_3(x)=x^2+18.163.$$"
   ]
  },
  {
   "cell_type": "markdown",
   "id": "1cf0e5bd",
   "metadata": {
    "slideshow": {
     "slide_type": "fragment"
    }
   },
   "source": [
    "**Észrevétel:** Ha az általános megoldásban a $C$ helyére egy tetszőleges konkrét számot helyettesítünk, akkor egy sajátos megoldást kapunk."
   ]
  },
  {
   "cell_type": "markdown",
   "id": "1f4f4ee7",
   "metadata": {
    "slideshow": {
     "slide_type": "slide"
    }
   },
   "source": [
    "Ábrázoljuk az $y_1$, $y_2$, $y_3$ függvényeket."
   ]
  },
  {
   "cell_type": "code",
   "execution_count": 2,
   "id": "1ea4e9db",
   "metadata": {
    "slideshow": {
     "slide_type": "skip"
    }
   },
   "outputs": [],
   "source": [
    "%matplotlib widget                                                             \n",
    "import matplotlib.pyplot as plt                             #plot\n",
    "import numpy as np                                          #mátrixműveletek\n",
    "\n",
    "def create_plot1():\n",
    "    gen_sol = dsolve(y(x).diff(x)-2*x, y(x))                    #általános megoldás\n",
    "    fig,ax = plt.subplots()\n",
    "    for i,c in enumerate([0,2,18.163]):\n",
    "        part_sol = gen_sol.subs(\"C1\",c)                         #sajátos megoldás\n",
    "        x_vals = np.linspace(0,2,21)                            \n",
    "        y_vals = [part_sol.rhs.subs({x:xx}) for xx in x_vals]\n",
    "        ax.plot(x_vals,y_vals,label=\"$y_{}; C={}$\".format(i+1,c))  \n",
    "    ax.legend();"
   ]
  },
  {
   "cell_type": "code",
   "execution_count": 3,
   "id": "6450f5af",
   "metadata": {},
   "outputs": [
    {
     "data": {
      "application/vnd.jupyter.widget-view+json": {
       "model_id": "6b2e2216c0e14722beb6adc3697e4cb9",
       "version_major": 2,
       "version_minor": 0
      },
      "image/png": "[encoded data removed]",
      "text/html": [
       "\n",
       "            <div style=\"display: inline-block;\">\n",
       "                <div class=\"jupyter-widgets widget-label\" style=\"text-align: center;\">\n",
       "                    Figure\n",
       "                </div>\n",
       "                <img src='data:image/png;base64,iVBORw0KGgoAAAANSUhEUgAAAoAAAAHgCAYAAAA10dzkAAAAOXRFWHRTb2Z0d2FyZQBNYXRwbG90bGliIHZlcnNpb24zLjcuMiwgaHR0cHM6Ly9tYXRwbG90bGliLm9yZy8pXeV/AAAACXBIWXMAAA9hAAAPYQGoP6dpAABL30lEQVR4nO3deXhc9X3v8c8smtFIGo32zZJled/AO5YNxMQEp07DU+DeENInFEJunxADua6fewOY2xZ4qB2gJSElmDpQ3OaWhDbYCXkaQpze2AbM4t1gGxu8yYtk7Rrty8y5fxzNSGMtlmRJo9F5v57nPGfOmd858z3MHPTx72w2wzAMAQAAwDLs0S4AAAAAo4sACAAAYDEEQAAAAIshAAIAAFgMARAAAMBiCIAAAAAWQwAEAACwGAIgAACAxRAAAQAALIYACAAAYDEEQAAAAIshAAIAAFgMARAAAMBiCIAAAAAWQwAEAACwGAIgAACAxRAAAQAALIYACAAAYDEEQAAAAIshAAIAAFgMARAAAMBiCIAAAAAWQwAEAACwGAIgAACAxRAAAQAALIYACAAAYDEEQAAAAIshAAIAAFgMARAAAMBiCIAAAAAWQwAEAACwGAIgAACAxRAAAQAALIYACAAAYDEEQAAAAIshAAIAAFgMARAAAMBiCIAAAAAWQwAEAACwGAIgAACAxRAAAQAALIYACAAAYDEEQAAAAIshAAIAAFgMARAAAMBiCIAAAAAWQwAEAACwGAIgAACAxRAAAQAALIYACAAAYDEEQAAAAIshAAIAAFgMARAAAMBiCIAAAAAWQwAEAACwGAIgAACAxTijXUAsCwaDunjxorxer2w2W7TLAQAAA2AYhurr65WXlye73Zp9YQTAq3Dx4kUVFBREuwwAADAE586dU35+frTLiAoC4FXwer2SzB9QcnJylKsBAAAD4ff7VVBQEP47bkUEwKsQOuybnJxMAAQAIMZY+fQtax74BgAAsDACIAAAgMUQAAEAACyGAAgAAGAxBEAAAACLIQACAABYDAEQAADAYgiAAAAAFkMABAAAsBgCIAAAgMUQAAEAACyGAAgAAGAxzmgXAAAAEGIYhk7WntSHZR/qg9IP9I2Z39DyvOXRLmvcIQACAICoKm0o1QelH+iD0g/0UdlHqmyuDL+Xn5RPABwBBEAAADCqalpq9FHZR/qw9EN9WPqhSupLIt53O9xamLVQS3OX6gv5X4hSleMbARAAAIyopvYm7S/frw9LzcO6x6uPy5ARft9hc2hOxhwtzVmqZXnLNC9znlwOVxQrHv8IgAAAYFi1B9v1ccXH4cB3uPKwOoIdEW2mpkxVcW6xluYu1eLsxUpyJUWpWmsiAAIAgKsSNIL6rOYzfVD6gT4s/VB7L+1Vc0dzRJu8xDwV5xVrac5SXZd7nTI8GVGqFhIBEAAADJJhGDpVd0p7y/Zqz6U9+qj0I9W01kS0SXWn6rrc67Q0d6mKc4qV782XzWaLUsW4HAEQAAD0K3Rrlj2X9mhv2V7tvbRX1S3VEW08To8WZy82A19usaalTpPdxu2GxyoCIAAAiBA0gmbgK9ujvZf2at+lfT0CX7wjXvOy5mlJ9hItyVmiazKuUZwjLkoVY7AIgAAAWFzoHL69l/aGe/hqW2sj2nicHs3PnK/FOYu1JGeJ5qbPJfDFMAIgAAAWEwp8oR6+vZf2qq61LqKNx+nRgqwFWpxtBr456XMIfOMIARAAgHEuEAzos9rOwNfZw+dv80e08Tg9Wpi1UItzFmtx9mLNyZijODuBb7wiAAIAMM60dLTok8pPdKD8gPaX79eh8kOqb6+PaJPgTNCC7AVakr1Ei3MWa3b6bAKfhRAAAQCIcbUttTpYcVD7y/frwKUDOlJ1RO3B9og2Cc4ELcxeqCU5S7Qke4lmpc+S004MsCq+eQAAYohhGLrYeFH7L+03e/gu7dfJupM92mV4MrQwa6EWZi/UwqyFmpY6jcCHMH4JAACMYYFgQJ/Xfh7u3dtXvk/lTeU92hX5irQwa6EWZC3QwuyFyk/ixsvoGwEQAIAxZCDn7zltTs1On60FWQu0IHuBFmQtUFp8WpQqRiwiAAIAEEVljWU6XHFYhyoO6VDFIR2pOqKOYEdEmwRnguZnzTd797IW6prMa+RxeqJUMcYDAiAAAKOkLdCmY9XHdKj8UDjwXWq61KNd9/P3FmQt0PTU6Zy/h2HFrwkAgBFS1lgWDnqHKg7pWNWxHlfn2m12TU+drnmZ8zQvc57mZ85Xvpfz9zCyCIAAAAyDtkCbjlYdjQh8vV2skepONcNelhn45qTPUUJcQhQqhpURAAEAGIKyxjIdrDioQ+WHdLjisI5V9+zdc9gcmp46XddmXhvu4SvwFtC7h6gjAAIAcAX1bfU6WnVUH1d+rCOVR3S48jC9e4hpBEAAALppDbTq0+pP9UnlJzpSeUQfV36sM/4zPdpd3rvHuXuIJQRAAIBlBYIBnaw7qSOVR/RJ5Sf6uPJjfVbzmTqMjh5t8xLzNDdjbnigdw+xjAAIALAEwzB0vuF8RNg7Vn1MzR3NPdqmxadpTvqciLCX7kmPQtXAyCAAAgDGpcrmyvAh3E+qzMO5ta21PdolOBM0O322rsm4RnMyzNCXl5jHoVyMawRAAEBMMwxDl5ou6WjVUR2rPqZjVeZQ3tzzIg2n3akZqTO6DuWmz1WRr0gOuyMKlQPRQwAEAMQMwzB0vv68jlYfNYNeZ+Craa3p0dYmm4p8ReGwd03GNZqeOl0uhysKlQNjCwEQADAmBYIBnfGfiejZO159XPXt9T3aOmwOTUmZollpszQrfZZmp8/WjNQZXKQB9GHcBsCNGzdq69at+vTTT+XxeLR8+XI9/fTTmjFjRriNYRh64okntHnzZtXU1Gjp0qX6yU9+ojlz5kSxcgCwnvZAu07WndSxqmPhwHei5kSvF2i47C5NT52uWelm2JuVNkvTUqfJ7XBHoXIgNo3bALhz50498MADWrJkiTo6OvTYY49p1apVOnr0qBITEyVJzzzzjJ577jlt2bJF06dP11NPPaVbbrlFx48fl9frjfIWAMD4VNdapxM1J8LDp9Wf6rOaz3o8RUOSPE6PZqbNDPfszUqbpckpkxVnj4tC5cD4YTMMw4h2EaOhoqJCWVlZ2rlzp77whS/IMAzl5eVp7dq1evjhhyVJra2tys7O1tNPP63vfOc7V1yn3++Xz+dTXV2dkpOTR3oTACCmBIIBna0/qxPVZtA7XnNcJ2pOqKyxrNf2XpdXs9Nmm4Gvs3ev0FvIBRoYdvz9Hsc9gJerq6uTJKWlpUmSTp8+rbKyMq1atSrcxu12a8WKFdq9e3evAbC1tVWtra3hab/fP8JVA0Bs6N6rd7zaDHqf136u1kBrr+0nJE3QtNRpmpE6Q9NTp2t2+mxNSJrArVeAUWKJAGgYhtatW6cbbrhBc+fOlSSVlZn/As3Ozo5om52drbNnz/a6no0bN+qJJ54Y2WIBYAzrCHaoxF8S7s0Lhb1LTZd6be9xejQtdZqmp07X9NTpmpE6Q9NSp8nr4jQbIJosEQAffPBBHT58WO+++26P9y7/16ZhGH3+C/TRRx/VunXrwtN+v18FBQXDWywAjAGhe+t9Xvu5Ttae1Oe1n+tEzQmdrD3Zb6/e9NTpmpE2Ixz28r35stvso1w9gCsZ9wHwoYce0ptvvqldu3YpPz8/PD8nJ0eS2ROYm5sbnl9eXt6jVzDE7XbL7eYqMwDjh2EYqmiuiAh6n9d+rlO1p9TQ3tDrMqFevdDh2xlpMzQtZZqSXEmjXD2AoRq3AdAwDD300EPatm2bduzYoaKiooj3i4qKlJOTo+3bt2vBggWSpLa2Nu3cuVNPP/10NEoGgBFjGIaqWqoigl5oXN/W8756kuS0OTUxeaKmpEzR1JSp4V69Cd4J9OoBMW7cBsAHHnhAr732mn7961/L6/WGz/nz+XzyeDyy2Wxau3atNmzYoGnTpmnatGnasGGDEhIS9Od//udRrh4Ahq6quapHyDtZd1J1rXW9tnfYHCrwFmhqytRw2JuSMkWTkicpzsHtVoDxaNwGwE2bNkmSbrrppoj5r776qu69915J0ve//301NzdrzZo14RtB//73v+cegADGvEAwoIsNF3Xaf1qn607rjP+MTted1qnaU70+Fk2S7Da7CrwFmuKbEhH0inxFPB4NsBjL3AdwJHAfIQAjraGtIRzuuge9En+J2oJtvS5jk0353vyIkDc1ZaomJU9SvDN+lLcAGHv4+z2OewABIFYEjaBKG0vNgFd3JiLoVTRX9Lmc2+FWYXKhJiVPUpGvSJN85niyb7I8Ts8obgGAWEMABIBRUtdap3P153TWfzaiV++s/2yft1aRpExPphnukrtCXpGvSLmJuVyMAWBICIAAMEwMw1Bta61K6ktU4i8Jj8/Vn1NJfUmfF2FIUpw9ToXJhWZPXqhHL3mSJvkmcdNkAMOOAAgAgxC6nUpvAe+c/5zq23u/pUpIlidLBckF4ZBX5CtSUXKR8pLyeOYtgFFDAASAywSNoMqbynWu/pwZ7jrDXuh1U0dTv8vnJOZooneiCrwFmpg8UYXeQhUkFyg/KV8JcQmjtBUA0DcCIADLMQxD1S3VutBwIXKoN8cXGy+qI9jR5/I22ZSXlGcGPO9ETUw2w15hcqEmJE3gSlsAYx4BEMC4VNdaZ4a5hou60HBB5+vP62LjRV2oNwNec0dzv8s7bA7lJuaqMLkw3JM30Tsx3JPHffMAxDICIICYYxiG/G1+lTWWqayxTOcbzod78EIh70rn4tlkU2ZCpvKT8jUhaYLykvI0IWmC8r3mdFZClpx2/hcJYHzi/24AxpzmjuZwuAsPTea4tLFUZY1lV+zBk6S0+DRNSJoQHvKS8szA552g3MRcevEAWBYBEMCoag+2q6KpIhzkQqHuUuOlcMirba0d0LpS3anKScwJ995dHva44AIAekcABDAsDMNQfXu9KpoqVN5UrormClU0Vaii2Zy+1HRJZQ1lqmiukKErP4EywZmg3MRc5STmKCcxR9mJ2V3TCeY0T7sAgKEhAALol2EYamxvVHlzea/hrvu8/p5m0V2cPU7ZCdnKScyJCHndB2+cVzabbYS3DgCsiQAIWFR7sF21LbWqaqlSdXO1qlqqVNVc1RXqOgNfRXPFgM63C0l2JSsrIUuZnkxlJmSGx6HAl5OYo7T4NB5hBgBRRAAExgnDMNTc0ayq5iozzLVUqbqlOhzuqluqVdXcOa+lesDn2YV447xmoOsW6rI8WeY4IUsZngxlejK5Bx4AxAACIDBGBY2g6tvqVdtaq9rWWtW11pmvW2pV01oTEehC45ZAy6A+w26zK9WdqjRPmtLj05UWnxbuvctKyAqHvQxPBhdUAMA4QgAERkFLR0tkiOvldWg6NPa3+RU0goP+LI/To7T4zkDXLdile9K75senKc2TphR3CodiAcCCCIDAALQH2uVv86uhvUENbQ3h1/Vt9eHh8ml/mz8c7AbbM9ddYlyiUtwp8rl98rl8SnGnKM2TZoa4XoIePXUAgCshAGLcCp0T19TRpOZ2c9zU0aSm9q5xY3tjr6Hu8umBXt3aH6fNKZ/b1xXmOl+Hpnu8jk+Rz+VTnCNuGP5rAADQhQCIqAkaQbV0tKgt0KaWQItaA63m0NEaft0S6Hy/o6VHeLvSuLmjeUD3mxuMxLhEeV1eJcUlKdmVrCRXUq/T3jivvC5vRKBLjEvktiYAgDGBADhGGYYhQ4aCRjDiddAIypAhwzAUlPleaN7lbbu3Cb0OraMj2KGOYIfag+1qD7aHpzuCHeowut7r3q57m4hpo2t+OLgNINh1BDtG7b9ngjNBCXEJEWNPnEcJzgQlxXWGOFdniOucDg3h9+OS5LA7Rq1mAABGCgFwDHrx4IvadGhTtMsYVU67U26HW26HW/GOeLkcLsU7O8eOeLkdbiXGJXaFN6enR6DraxzvjOdCBwAAuiEAjkE2De0woU022Ww22WU3xzZ71zybXXbZJZvksDnktDvltDsVZ48Lv3baIqcj3uvWpvt7l7cJhbjw4HT3Guwub0fPGgAAo8dmGMbwniRlIX6/Xz6fT3V1dUpOTh629Ta1N6kl0BIOcqFQZ7d1TsvW83Vn0AMAAP0bqb/fsYQewDEoIS6BW3kAAIARw4lRAAAAFkMABAAAsBgCIAAAgMUQAAEAACyGAAgAAGAxBEAAAACLIQACAABYDAEQAADAYgiAAAAAFkMABAAAsBgCIAAAgMUQAAEAACyGAAgAAGAxBEAAAACLIQACAABYDAEQAADAYgiAAAAAFkMABAAAsBgCIAAAgMUQAAEAACyGAAgAAGAxBEAAAACLIQACAABYDAEQAADAYgiAAAAAFkMABAAAsBgCIAAAgMUQAAEAACyGAAgAAGAxBEAAAACLIQACAABYDAEQAADAYgiAAAAAFkMABAAAsBgCIAAAgMUQAAEAACyGAAgAAGAxBEAAAACLIQACAABYDAEQAADAYsZtANy1a5duvfVW5eXlyWaz6Ve/+lXE+/fee69sNlvEUFxcHJ1iAQAARtG4DYCNjY2aN2+eXnjhhT7b/Mmf/IlKS0vDw29/+9tRrBAAACA6nNEuYKSsXr1aq1ev7reN2+1WTk7OKFUEAAAwNozbHsCB2LFjh7KysjR9+nT95V/+pcrLy6NdEgAAwIgbtz2AV7J69Wp97WtfU2FhoU6fPq2//uu/1sqVK7Vv3z653e5el2ltbVVra2t42u/3j1a5AAAAw8ayAfDrX/96+PXcuXO1ePFiFRYW6j//8z91xx139LrMxo0b9cQTT4xWiQAAACPC0oeAu8vNzVVhYaE+++yzPts8+uijqqurCw/nzp0bxQoBAACGh2V7AC9XVVWlc+fOKTc3t882bre7z8PDAAAAsWLcBsCGhgZ9/vnn4enTp0/r4MGDSktLU1pamh5//HH9t//235Sbm6szZ85o/fr1ysjI0O233x7FqgEAAEbeuA2Ae/fu1Re/+MXw9Lp16yRJ99xzjzZt2qSPP/5Y//qv/6ra2lrl5ubqi1/8ol5//XV5vd5olQwAADAqbIZhGNEuIlb5/X75fD7V1dUpOTk52uUAAIAB4O83F4EAAABYDgEQAADAYgiAAAAAFkMABAAAsBgCIAAAgMUQAAEAACyGAAgAAGAxBEAAAACLIQACAABYDAEQAADAYgiAAAAAFkMABAAAsBgCIAAAgMUQAAEAACzGGe0CAADoLhAIqL29PdplIIbFxcXJ4XBEu4wxjQAIABgTDMNQWVmZamtro10KxoGUlBTl5OTIZrNFu5QxiQAIABgTQuEvKytLCQkJ/OHGkBiGoaamJpWXl0uScnNzo1zR2EQABABEXSAQCIe/9PT0aJeDGOfxeCRJ5eXlysrK4nBwL7gIBAAQdaFz/hISEqJcCcaL0G+J80l7RwAEAIwZHPbFcOG31D8CIAAAgMUQAAEAACyGAAgAAGAxBEAAAMa4ffv26a677lJeXp7i4+M1ZcoU3XfffTpx4sSwfs6LL76ooqIixcfHa9GiRXrnnXeGdf0YOwiAAACMYS+//LKWLl0qn8+nrVu36vjx4/rpT3+q6upqvfLKK8P2Oa+//rrWrl2rxx57TAcOHNCNN96o1atXq6SkZNg+A2OHzTAMI9pFxCq/3y+fz6e6ujolJydHuxwAiFktLS06ffp0uPcp1uTn52v9+vVas2ZNeN7u3bv1pS99SceOHVNhYeGQ1vvuu+9qxYoVeuGFF/Td7363x/vV1dVKS0sbct3dLV26VAsXLtSmTZvC82bNmqXbbrtNGzduHJbPGE39/ab4+00PIABgjDIMQ01tHVEZBts3UlxcrD179kTUvnbtWq1du/aK4W/Lli193rJk3bp1WrFiRa/hT1KP8LdhwwYlJSX1O/R2WLetrU379u3TqlWrIuavWrVKu3fv7rd+xCaeBAIAGJOa2wOa/TdvR+Wzjz75ZSW4Bv4nsri4WFu2bAlP/+xnP1NJSYkeffRRSdLtt9+uHTt26Oabb9Yvf/nLiGV9Pp9mzJjRY53Hjh3Tnj17erTvz/33368777yz3zYTJkzoMa+yslKBQEDZ2dkR87Ozs1VWVjbgz0fsIAACAHCViouL9fDDD6uhoUF2u13r16/XU089Ja/XK0n63ve+p/vuu0//8i//0mPZ22+/XbfffnuP+fv375ckLVq0aMB1pKWlXdUh4ct7Ig3D4IbK4xQBEAAwJnniHDr65Jej9tmDsXjxYjkcDu3fv19/+MMflJ6ervvuuy/8/he/+EXt2LFjUOtsamqSJCUlJQ14mQ0bNmjDhg39tnnrrbd04403RszLyMiQw+Ho0dtXXl7eo1cQ4wMBEAAwJtlstkEdho2m+Ph4zZs3T1u3btXmzZv1m9/8Rnb71Z1mP3fuXEnSO++802sPYXNzszweT8S8oR4CdrlcWrRokbZv3x7xWdu3b9ef/dmfDaV8jHGxsWcBADDGFRcX68c//rG++tWv6uabb77q9S1btkyrVq3SmjVr1NDQoGXLlikYDGrPnj166aWXtGnTpnBIDLmaQ8Dr1q3T3XffrcWLF2vZsmXavHmzSkpKdP/991/1tmDsIQACADAM5s+fL6fTqWeffXZQy23ZskXf+ta3er3y+M0339QPf/hDPfPMMzp16pTcbremTp2qW2+9VbNnzx6u0iVJX//611VVVaUnn3xSpaWlmjt3rn77298O+RY2GNsIgAAADIN/+7d/05o1a3q9orc/Z86c0YoVK3p9z+1265FHHtEjjzwyHCVe0Zo1ayLuZYjxiwAIAMAQBYNBVVRU6JVXXtHx48e1bdu2Xtt9+ctf1v79+9XY2Kj8/Hxt27ZNS5YskSS9/fbbev7550ezbIAACADAUO3atUsrV67UzJkztXXrVvl8vl7bvf123/czfP/990eqPKBPBEAAAIbopptuUjAYjHYZwKDxKDgAAACLIQACAABYDAEQAADAYgiAAAAAFkMABAAAsBgCIAAAgMUQAAEAACyGAAgAAGAxBEAAAACLIQACAABYDAEQAIAxbt++fbrrrruUl5en+Ph4TZkyRffdd59OnDgxbJ+xceNGLVmyRF6vV1lZWbrtttt0/PjxYVs/xhYCIAAAY9jLL7+spUuXyufzaevWrTp+/Lh++tOfqrq6Wq+88sqwfc7OnTv1wAMP6IMPPtD27dvV0dGhVatWqbGxcdg+A2OHM9oFAAAQ6/Lz87V+/XqtWbMmPG/37t360pe+pGPHjqmwsHBI63333Xf1ne98Ry+88IK++93vhucXFhZq5cqVqq6uvuraQ373u99FTL/66qvKysrSvn379IUvfGHYPgdjAz2AAICxyTCktsboDIYxqFKLi4u1Z8+ebqUbWrt2rdauXXvF8LdlyxbZbLZe31u3bp1WrFgREf66S0tLi5jesGGDkpKS+h3eeeedAW1TXV1dr5+B8YEeQADA2NTeJG3Ii85nr78ouRIH3Ly4uFhbtmwJT//sZz9TSUmJHn30UZ07d0533323ysvL5XQ69dd//df62te+Fm7r8/k0Y8aMHus8duyY9uzZo1/+8pcDruP+++/XnXfe2W+bCRMmXHE9hmFo3bp1uuGGGzR37twBfz5iBwEQAICrVFxcrIcfflgNDQ2y2+1av369nnrqKXm9XjU0NOhHP/qR5s+fr/Lyci1cuFBf+cpXlJhoBszbb79dt99+e4917t+/X5K0aNGiAdeRlpY2LD12Dz74oA4fPqx33333qteFsYkACAAYm+ISzJ64aH32ICxevFgOh0P79+/XH/7wB6Wnp+u+++6TJOXm5io3N1eSlJWVpbS0NFVXV4cDYF+ampokSUlJSQOuY8OGDdqwYUO/bd566y3deOONfb7/0EMP6c0339SuXbuUn58/4M9GbCEAAgDGJpttUIdhoyk+Pl7z5s3T1q1btXnzZv3mN7+R3d7zNPu9e/cqGAyqoKDgiusMHXp95513eu0hbG5ulsfjiZh3NYeADcPQQw89pG3btmnHjh0qKiq6Yo2IXQRAAACGQXFxsX784x/rq1/9qm6++eYe71dVVekv/uIv9PLLLw9ofcuWLdOqVau0Zs0aNTQ0aNmyZQoGg9qzZ49eeuklbdq0qcf5eVdzCPiBBx7Qa6+9pl//+tfyer0qKyuTZJ6jeHnQROwjAAIAMAzmz58vp9OpZ599tsd7ra2tuv322/Xoo49q+fLlEe9t2bJF3/rWt2T0cuXxm2++qR/+8Id65plndOrUKbndbk2dOlW33nqrZs+ePaz1b9q0SZJ00003Rcx/9dVXde+99w7rZyH6CIAAAAyDf/u3f9OaNWt6XNFrGIbuvfderVy5UnfffXeP5c6cOaMVK1b0uk63261HHnlEjzzyyIjU3F1vARTjFwEQAIAhCgaDqqio0CuvvKLjx49r27ZtPdq89957ev3113XttdfqV7/6lSTzNjHXXHONJOntt9/W888/P5plAwRAAACGateuXVq5cqVmzpyprVu3yufz9Whzww03KBgM9rmO999/fyRLBHpFAAQAYIhuuummfsMdMFbxKDgAAACLIQACAABYDAEQAADAYgiAAAAAFjNuA+CuXbt06623Ki8vTzabLXzpfYhhGHr88ceVl5cnj8ejm266SUeOHIlOsQAAAKNo3AbAxsZGzZs3Ty+88EKv7z/zzDN67rnn9MILL2jPnj3KycnRLbfcovr6+lGuFAAAYHSN29vArF69WqtXr+71PcMw9KMf/UiPPfaY7rjjDknSv/zLvyg7O1uvvfaavvOd74xmqQAAAKNq3PYA9uf06dMqKyvTqlWrwvPcbrdWrFih3bt3R7EyAACAkTduewD7U1ZWJknKzs6OmJ+dna2zZ8/2uVxra6taW1vD036/f2QKBAAAGEGW7AEMsdlsEdOGYfSY193GjRvl8/nCQ0FBwUiXCAAAMOwsGQBzcnIkdfUEhpSXl/foFezu0UcfVV1dXXg4d+7ciNYJAIAk7du3T3fddZfy8vIUHx+vKVOm6L777tOJEyeG7TOudPcMSero6ND/+T//R0VFRfJ4PJo8ebKefPLJfh+HN5D1StKFCxf0zW9+U+np6UpISND8+fO1b9++8PubNm3Stddeq+TkZCUnJ2vZsmV66623rnazLcuSAbCoqEg5OTnavn17eF5bW5t27typ5cuX97mc2+0O//BCAwAAI+nll1/W0qVL5fP5tHXrVh0/flw//elPVV1drVdeeWXYPudKd8+QpKefflovvfSSXnjhBR07dkzPPPOMnn32Wf3jP/7jVa23pqZG119/veLi4vTWW2/p6NGj+od/+AelpKSE2+Tn5+sHP/iB9u7dq71792rlypX6sz/7M27hNlTGOFVfX28cOHDAOHDggCHJeO6554wDBw4YZ8+eNQzDMH7wgx8YPp/P2Lp1q/Hxxx8b3/jGN4zc3FzD7/cP+DPq6uoMSUZdXd1IbQYAWEJzc7Nx9OhRo7m5OdqlDMmECROMn/zkJxHz3nvvPcPj8RhnzpwZ8nrfeecdw263Gy+++GKv71dVVQ153f2RZGzbtq3H/D/90z817rvvvoh5d9xxh/HNb37zqtb78MMPGzfccMOg60xNTTVefvnlXt/r7zfF32/DGLc9gHv37tWCBQu0YMECSdK6deu0YMEC/c3f/I0k6fvf/77Wrl2rNWvWaPHixbpw4YJ+//vfy+v1RrNsAEAnwzDU1N4UlcEwjEHVWlxcrD179kTUvnbtWq1du1aFhYX9Lrtly5Y+zz9ft26dVqxYoe9+97u9vp+WlhYxvWHDBiUlJfU7vPPOO4Patu5uuOEG/dd//Vf40POhQ4f07rvv6itf+cqQ1ylJb775phYvXqyvfe1rysrK0oIFC/TTn/60z/aBQEC/+MUv1NjYqGXLll3VZ1vVuL0K+Kabbup3B7bZbHr88cf1+OOPj15RAIABa+5o1tLXlkblsz/88w+VEJcw4PbFxcXasmVLePpnP/uZSkpK9Oijj6q+vl4rV65Ue3u7AoGAvve97+kv//Ivw219Pp9mzJjRY53Hjh3Tnj179Mtf/nLAddx///268847+20zYcKEAa/vcg8//LDq6uo0c+ZMORwOBQIB/d3f/Z2+8Y1vDHmdknTq1Clt2rRJ69at0/r16/XRRx/pe9/7ntxut/7iL/4i3O7jjz/WsmXL1NLSoqSkJG3btk2zZ8++qs+2qnEbAAEAGC3FxcV6+OGH1dDQILvdrvXr1+upp56S1+tVIBDQzp07lZCQoKamJs2dO1d33HGH0tPTJUm33367br/99h7r3L9/vyRp0aJFA64jLS2tR6/gcHr99df1f//v/9Vrr72mOXPm6ODBg1q7dq3y8vJ0zz33DHm9wWBQixcv1oYNGyRJCxYs0JEjR7Rp06aIADhjxgwdPHhQtbW1euONN3TPPfdo586dhMAhIAACAMYkj9OjD//8w6h99mAsXrxYDodD+/fv1x/+8Aelp6frvvvukyQ5HA4lJJi9iS0tLQoEAgM6xNzU1CRJSkpKGnAdGzZsCIeovrz11lu68cYbB7zO7v73//7feuSRR3TXXXdJkq655hqdPXtWGzduvKoAmJub2yPEzZo1S2+88UbEPJfLpalTp0oy/5vv2bNHzz//vP7pn/5pyJ9tVQRAAMCYZLPZBnUYNpri4+M1b948bd26VZs3b9ZvfvMb2e1dp9nX1tZqxYoV+uyzz/Tss88qIyPjiuucO3euJOmdd97ptYewublZHk9kUB3pQ8BNTU0R2yWZAbe/28AMxPXXX6/jx49HzDtx4sQVz580DCPiAQ0YOAIgAADDoLi4WD/+8Y/11a9+VTfffHPEeykpKTp06JAuXbqkO+64Q//9v//3fu87K0nLli3TqlWrtGbNGjU0NGjZsmUKBoPas2ePXnrpJW3atCkcEkOu5hBwQ0ODPv/88/D06dOndfDgQaWlpWnixImSpFtvvVV/93d/p4kTJ2rOnDk6cOCAnnvuuXBv5wsvvKBt27bpv/7rvwa13r/6q7/S8uXLtWHDBt1555366KOPtHnzZm3evDm83Pr167V69WoVFBSovr5ev/jFL7Rjxw797ne/G9L2Wl40L0GOdVxGDgDDI9ZvA2MYhvHyyy8bcXFxxqefftpvu/vvv9/493//9/D0q6++avT157ilpcXYuHGjMXfuXCMhIcFITU01lixZYjz55JNGIBAY1vr/+Mc/GpJ6DPfcc0+4jd/vN/7n//yfxsSJE434+Hhj8uTJxmOPPWa0trYahmEYf/u3f2sUFhYOer2GYRi/+c1vjLlz5xput9uYOXOmsXnz5oj377vvPqOwsNBwuVxGZmamcfPNNxu///3v+9webgPTP5thDPJad4T5/X75fD7V1dVxU2gAuAotLS06ffq0ioqKFB8fH+1yhmTlypW69tpr9aMf/Shi/qVLl+TxeJScnCy/369ly5bp5z//ua699lpJ0uOPP64dO3Zox44do1/0ONbfb4q/3xwCBgBgyILBoCoqKvTKK6/o+PHj2rZtW48258+f17e//W0ZhiHDMPTggw+Gw58kvf3223r++edHs2yAAAgAwFDt2rVLK1eu1MyZM7V161b5fL4ebRYtWqSDBw/2uY73339/BCsEekcABABgiG666aarvgIWiIZx+yg4AAAA9I4ACAAAYDEEQAAAAIshAAIAAFgMARAAMGZwQQWGC7+l/nEVMAAg6lwul+x2uy5evKjMzEy5XC7ZbLZol4UYZBiG2traVFFRIbvdLpfLFe2SxiQCIAAg6ux2u4qKilRaWqqLFy9GuxyMAwkJCZo4caLsdg529oYACAAYE1wulyZOnKiOjg4FAoFol4MY5nA45HQ66UXuBwEQADBm2Gw2xcXFKS4uLtqlAOMa/aIAAAAWQwAEAACwGAIgAACAxRAAAQAALIYACAAAYDEEQAAAAIshAAIAAFgMARAAAMBiCIAAAAAWQwAEAACwGAIgAACAxRAAAQAALIYACAAAYDEEQAAAAIshAAIAAFgMARAAAMBiCIAAAAAWQwAEAACwGAIgAACAxRAAAQAALIYACAAAYDEEQAAAAIshAAIAAFgMARAAAMBiCIAAAAAWQwAEAACwGAIgAACAxRAAAQAALIYACAAAYDEEQAAAAIshAAIAAFgMARAAAMBiCIAAAAAWQwAEAACwGAIgAACAxRAAAQDA2FJ9Wtq3RfqPb0mnd0W7mnHJGe0CAACAxTVUSKd3Sqd2mOPakq73kvOkoi9ErbTxigAIAABGV2u9dOa9ztC3Uyo/Evm+3SnlL5GKVkgzVkenxnGOAAgAAEZWR6t0fo8Z9k7tkC7sk4xAZJvsa6TJK8zQV7hccidFpVSrIAACAIDhFQxIZYfNwHd6p3T2famjObJN6iRp8k1m4Cv6gpSYEY1KLYsACAAAro5hSFUnpdM7OkPfLqmlNrJNYqYZ9kK9fKmF0agUnQiAAABgcAxDqj1rnsd35l2zl89/IbKNyytNur6rly9rlmSzRaVc9EQABAAA/TMMqeaMGfbOdoa+unORbRwuqWBpVy9f3kLJQcwYq/hmAABAJMOQak6bQe/Mu2ZPn/98ZBu70wx5k24wh4nLJFdCdOrFoBEAAQCwOsOQqk91C3zvSvUXI9vYndKERV2Br2Cp5EqMTr24agRAAACsJnTRxpl3ug7p1pdGtrHHSfmLpcLrOwPfdQS+cYQACADAeGcYUtXnZuALHdJtKItsY48zb748qTPw5V/HId1xzLIB8PHHH9cTTzwRMS87O1tlZWV9LAEAQIwIdEhlh6SSD6SS981xY0VkG4erM/DdYPby5S8h8FmIZQOgJM2ZM0d/+MMfwtMOhyOK1QAAMEStDeaTNkKB7/xeqb0xso3D3RX4Jt1gHt6N80SnXkSdpQOg0+lUTk5OtMsAAGBwGsq7evZK3pdKD/d8tFq8TyooliYWm49Wy50vxcVHpVyMPZYOgJ999pny8vLkdru1dOlSbdiwQZMnT452WQAAdAldoVvyvvlItZL3peqTPdv5CsywN7FYmrhcypwp2e2jXy9igmUD4NKlS/Wv//qvmj59ui5duqSnnnpKy5cv15EjR5Sent7rMq2trWptbQ1P+/3+0SoXAGAVgQ7zObolH0glu3s/f082KWt2Z9hbZo5TCqJSLmKTzTAMI9pFjAWNjY2aMmWKvv/972vdunW9tuntwhFJqqurU3Jy8kiXCAAYj5qqzXP2zn8knfuoj/P3XOY9+EK9ewVLJE9qdOodB/x+v3w+n6X/fhMAu7nllls0depUbdq0qdf3e+sBLCgosPQPCAAwCMGAVH6sM+ztMcdVn/dsx/l7I4oAaOFDwJdrbW3VsWPHdOONN/bZxu12y+12j2JVAICY1lRtXp177iMz7F3YL7U19GyXPtW8717BEvMJG5mzOH8PI8qyAfB//a//pVtvvVUTJ05UeXm5nnrqKfn9ft1zzz3RLg0AEIuCAan8aGfY6wx9vV2s4UoyD+cWXGeGvvzFUkLa6NcLS7NsADx//ry+8Y1vqLKyUpmZmSouLtYHH3ygwsLCaJcGAIgFjVVm0DvfGfj67N2b1hn2lpjjzJmSnfvOIrosGwB/8YtfRLsEAECsaG+Wyj42Q97F/eaFGr327nml/EWdh3OvM3v66N3DGGTZAAgAQK8CHVLFp2bQu7DPDH3lR6VgR8+2GdO7zt3Lv07KnEHvHmICARAAYF2GIdWcNkNeqHev9JDU3tSzbWKm2aOXt1CasJDePcQ0AiAAwDrqy7qC3oV90sUDUnNNz3Yur5Q3vyvo5S2UfPmSzTbqJQMjgQAIABifWurMgHehW9jzX+jZzuGScq6J7N1Ln8ZtWDCuEQABALGvsdI8dNt9qDndS0ObeRXuhEXShAVm4MueKzldo14yEE0EQABA7DAM8zDu5WHPf7739ikTu/XsLZJy50nupNGtGRiDCIAAgLHJMKTas92C3mFz3Fjee/u0KWbA6z5wkQbQKwIgACD6gkHzvnqlh6TSg12hr6WuZ1ub3TyMGwp5Odea5/DFW/OZruNVdWOb3j9ZpWsm+DQxPSHa5Yw7BEAAwOhqa5TKP5UufSxdOmLeYLns496fomGPk7Jnd+vVmy9lzZZcBILxprG1Qx+dqdbuzyv13udVOlrqlyQ9/Ccz9d2bpkS5uvGHAAgAGBmGIdWdk8o+MYNeKPBVnZRk9Gzv9Jg9ebnXdgW+zFlcoDFOtXUEdeh8rd79rFK7T1bq4LlatQcifxczc7zyeeKiVOH4RgAEAFy9tkap/Jh06ZNuge+I1NrLIVxJSsySsudIOXPNq3Bz50vpUyUHf5bGq2DQ0LEyv3Z/XqX3Tlbqo9PVamoLRLTJT/Xo+ikZWj41XcunZCjT645SteMfexoAYOB669Ur+0SqPqVee/Xscebj0bLnRga+pKxRLx2jyzAMna1q0nsnK7X78yq9f6pK1Y1tEW3SE11aNiVd10/N0PVTMjjXbxQRAAEAvWuqNnv1Ko51nrM3gF69nM6gl32NOc6YziFcCymvb9H7J6v0Xud5fBdqmyPeT3A5tLQoTddPzdDyKRmameOV3c7TVaKBAAgAVtdcYwa8UNALjfu63Yo9zrwKN9yjN4dePYuqa2rXR2eq9d7n5nl8Jy5FXsgT57BpQUGq2cM3NV3zClIU5+AJK2MBARAArKKlrveg11DW9zK+iVLWzM7AN9cMfOnT6NWzqNqmNn10ulofnKrWB6eqdKzML6PbkX+bTZqdm9zZw5eu64rSlOAiaoxFfCsAMN60+KWK4z2DXv3FvpdJzu8KelmzzKtvM2fw1AyLq21q04enzbD3walqfXpZ4JOkyZmJKp6crhumZmjZ5HSlJvKPg1hAAASAWBR6JFrVZ1LlCanyc3Nccbzvx6JJkjevM+jN6hpnzuAmypAk1TR2D3xV+rSsvkebKZ2Br3hyupYWpSkrOT4KleJqEQABYCxrbzGvsK080Rn2ug1tPf84hyXl9B70PCmjVjrGvqqGVn10ujoc+noLfFOzklQ8OU3Fk81DulleAt94QAAEgGgzDKmxorMnrzPchXr2akskI9j7cja7lDrJPCcvIzRMNw/j8gxc9KKqoVUfnq7Wh52HdI9f6hn4pmUlhXv4ritK41584xQBEABGS1uTVHPGfOZtuCevs2evt2fehriTu8Jd+lRznDFNSpssOfnjjL5dqG3W3jPV2nOmWh+dru5xla4kzcj2amm3Hr6MJH5TVkAABIDh1Nog1Zw2D9tWnzIfe1bdOd3fRRiySSkTu8JdxrTOnr3p5u1VbNwrDf0LBg2dKK/XnjM12nO6WnvPVOtiXUuPdjNzvOHz964rSlM6gc+SCIAAMFgt/q6Ad/nQcKn/Zd0+KX1yV7jL6OzRS5ssxXlGp36MCy3tAX18oU57zlRrz+lq7TtbI39LR0Qbh92muXnJWjIpTYsnpeq6onSlcZUuRAAEgJ4Mw7w5cs3prt67cG/eKampsv/lPWlmoAsN6VO6XntS6c3DkNQ1tWtfSbU+Ol2jvWeqdfh8ndoCkeeHJrgcWlSYqsWFaVoyKVXzJ6ZwHz70il8FAGtqbZBqz0o1Z81xbUnk61Z//8snZkaGvPBQZIY84CqFzt/76HS19p6p6fWCjYwkt5ZMStWSSWlaMilNs3K9cvKkDQwAARDA+NTeYga52hKp9kxnuCvpCn3N1VdeR1K2lDalK9h1D3rcNw/DqCMQ1Kdl9TpQUqM9Z2r6PH9vckaiFncLfIXpCbLRo4whIAACiE3tLZL/glR3vveevP4ebxbiSTUvvEgplFILzXHota9AciWM/HbAkiobWnWgpFb7S2q0/2yNDp+vU3N7IKJN6Py9xZ1hb/GkVK7QxbAhAAIYewIdZoCrO28O/gtSXWfY8583X1/pPDxJciV1C3cTL3s9UYr3jfy2wPJCvXuhsLe/pFYl1U092nnjnZpfkKJFham6blIa5+9hRPHLAjC6DENqrOwMcp1hLhTqQmGvvrTvmx93F5co+Sb0Eu4KzRskc8EFoqCyoTUc9A6U9N67J5k3XF44MVULJqZoYWGqpmYmyW7n94rRQQAEMHzaW8yeu/ruQ6k5Dh2u9V+UAq1XXpfdKSXnmYdikyeYQS95gjkdek3AQ5S1B4L6tNTs3TtQcuXevYUTU7WwMFXzC1Lk88RFoWLARAAEcGUdbZ3B7lJXoAuNG7oFveaaga8zKVvy5XeGuvyerxOzJDtXM2LsMAxDZf4WHTpXp4PnzPP3Dp+vVUt7z97qUO/ewkIz9E2hdw9jDAEQsCrDMG910lBhPoe2sVxqKDdvZBwOeZ3Brqlq4Ot1uCVvjuTNlbzZneMcyZvXGe4mmK+d3IwWY1ttU5sOn6/ToXO1OnS+TofO16qivmfvtTfeqQUTU7Vwohn25tG7hxhAAATGk0C7GdYayjtDXbehoaLnvEDbwNdtj+sW5roHu85xUo455rAsYlBzW0BHLpo9e4c7w97Zqp6Hch12m6ZlJWlefgq9e4hpBEBgLGtvlpqqzXvWdR83VXWGunLzgopQD95gDsGGuLxSYob5vNnEzM5Qd3mwy5US0gh2GBfaA0EdL6vX4fN1Ony+VgfP1eqz8gYFgkaPtpPSE3RtfoquzfdpfkGK5uT55HE5olA1MLwIgMBoCAalllozoPUW6CLGNV3THc2D/yybXUrIMMNcUqY57j4kZZmBLzTN82cxjgWDhs5UNYZ79Q6dq9WRi361dvQ8by/L69a1+SmaX+ALh76UBE5VwPhEAAQGwjCktkbznLkWv9RS1/m6rmsIT4fGtV2hrrlWUs/ehQGxOczeN09a5zg1MsBFBLtM8307PRSwnmDQ0NnqJn1yoU6fXKzTkQt+HT5fK39LR4+23nin5nWGPDP0pSjHFx+FqoHoIABifAsGpfZGM7y1NUptDZGvWxsGHuqMnvfxGjSXV0pINcOcJ/WyYNd9nNo17U7m0CtwmY5AUCcrGnXkYp0+ueDXJxfrdPSiXw2tPcOe22nXnLzkcNC7Nt+nSemJnLcHSyMAIrqCQamjJXJobzEPfXa0mufAdbRK7U3dglsvQa7XcaO53HCyOcynR8Qnm2N35zg0hKc7x91DnSeVK1+BIWjtCOizSw3hnr1PLvh1rLT3w7hup12zcpM1d0Ky5uT5dM0En2bkeBXn4JZCQHcEwFhiGOYgw3xKghHsnNf5usf8Pt4LBqRgh3nFaKBNCrabj94KtnfOa+96Pdh24RDXGdwuD3IdzZ0Br/P1YK5CvRo2u/lYMFdityFJikvoJcwlS/EpPcOcO9lcjt44YMQ0twV0tNTf2bNXpyMX/TpxqV7tgZ6nUCS6HJqT59OcCcmam+fT3Ak+TclMlJOwB1wRAXAs2vms9M7f9wx5Qz2HLFbYnZLTIznd5oUJznhziOscu72R4e3yMNffa2c8wQ0YY2oa23SszK+jF/06ctGvTy7U6WRFg3q5GFc+T5zmdga9ORN8mpuXzGFc4CoQAMciI2D2og0bm9kDZrObIcjmkBxxZuByuLq9jjPv9eZwdo5d3V5f3qaP98KhrTPIOT1dAe7y+ZcHPQc/R2A86ggEdbqyUUdL/fq0rF7HSv36tLReZf7e/z+XkeTWNROSNXeCz+zhy0tWfqpHNv4RBwwb/uKORUvvl+b/eVdoiwhwoRBn6+e9y6YBYJSEevWOldbr01K/jpX5deJSg9p6OV9PkgrSPJqZk6xrJvjCPXxZyVyNC4w0AuBY5EkxBwAYowbbq5fgcmhGjlezcpM1q3M8Pcer5HgemQZEAwEQANAnwzBU2dCmzy7V61go6F2hV29iWoJmhsJerjkuSE3gfD1gDCEAAgAkSVUNrTpxqUGfldfrxKV68/WletU0tffaPrFbr97M3GTNzvVqerZXXnr1gDGPAAgAFlPT2GYGvHIz4J24VK/PLjWoqrH32zLZbF29ejNzksM9e/TqAbGLAAgA41RdU7tOlHcFvFCvXmVDa5/LFKR5ND3Lq2nZXk3PTtL0bK+mZCbJ4+LxgsB4QgAEgBgWOkfvVEWDTlY06rPyrrBXXt930JuQ4gkHvFDYm5qVpAQXfxYAK2BPB4AY0NYRVEl1o05WNOpkRYNOljfqVGWDTpY3yN/S8/m3IXm++HDAM8deTc1KUpKb//0DVsb/AQBgDKlpbDMDXkWDToXCXkWjSqqbFOjtERkyz9HLT/VockaSpmQmaUaOGfamZSVxQQaAXhEAAWCUdQSCKqluCge8rqDX0OcVt5J51e3kzCRNyUzsHCdpSlaiJqUnKj6Oc/QADBwBEABGQHsgqPM1zTpT1aizlY06U9Wks1WNOlvVpHM1TWoP9P1s7wkpHk3OTDQDXud4cmaSspPdPA4NwLAgAALAELV2BHSuullnq7oCXmh8vqa5z0O2kuSJc2hyuCeva1yUkciFGABGHP+XAYB+tLQHVFLdpDOVZu/dmapGc6hs0sW6Zhl9ZzzFx9k1Kd08RFuYkWCO081xTnI899ADEDUEQACWFggauuRv0fmaZp2rNg/Phl6XVDeptK73Z9uGJLocKkxP1KTOgBcOeRmJyvJyyBbA2EQABDCuhe6T1z3Yne/2+kJtc7/n40mS1+3UpIyu3rvC9AQVZSSqMD1RGUkuQh6AmEMABBDz6prada6mqTPcNYdfn6tp1vmaJrW0B/td3mm3KS/Fo/xUjwpSE1SQ5lF+aoIK0sygl5oQR8gDMK4QAAGMaa0dAZXVtehibYsu1jartK5ZF+taVFrbbM6ra1Z9PzdClsz75OUkx6sgNUH5oXCX6lFBWoLyUz3KSY6X02EfpS0CgOgjAAKImkDQUHm9Ge5K65p1sTPUldY1q7TODHyVDW0DWldGkrur565buCtITVBeikcuJwEPAEIIgABGRHsgqMqGVl3yt+qSv6WzF6+r9660rkVl/pZ+b5USEh9nV57Po9yU+M6xR3m+eOWleJSXEq8JKQnyuLgRMgAMFAEQwKB0BIKqamzTJX9LONyV17eq3N8Snlde36KqxrZ+b5ES4rDblJMcr7yUeOV2hrwJKR7zdWfI4xw8ABheBEAAkszDsVWNrSrvDHChcHfJ3xnu6ltU7m9VZUOrBtBpJ8kMd1let7KS45WT7DZ77DpDXq7PowkpHmV63XJwPzwAGFUEQGAca2rrUFVDmyobWlXZ0KaqhlZVNbapot4cVzWYga6qoU3VTQPrsZMku03K9LqVnRyvLG+8spPd4XF2cryyOsdpCS5udgwAYxABEIghHYGgapvbVd14WajrHvIau0JdU1tgUOu32cyLKbKT3cr2xisrOV5ZnUGve7hLT6TXDgBiGQEQiALDMNTUFlBNU5tqm9pV09SmmqZ21Ta1qaaxvXN+t3mdba50u5PeuJx2ZSa5lZHkUnqSW+mJLmV4zXGm1wxz6UkuZSS5lZoQx+1QAMACCIDAVWjtCKi+pUP+5nZz3NIenq5rbg8HuFDI6z5uC/R/c+L+pCTEKT3RDHSZSV0BLj3JpfREtzK95jjD61aiy8EFFACACJYPgC+++KKeffZZlZaWas6cOfrRj36kG2+8MdplYRR0BIJqbAuovltouzzE1bd2qL6lXf5mc76/pWu6vqVdrR1DD3GS5HLYlZIQp9QEV3icmhinlASXUhNC4+6v4+Tz0EsHALg6lg6Ar7/+utauXasXX3xR119/vf7pn/5Jq1ev1tGjRzVx4sRol4du2jqCamrrUGNbQE2tl43bOtTYGlBja4ca2zrU1Ga+jhi3daipNRDx/tWGt+68bqeSPXHyxjuVHN859sR1hbpuYS4loWt+Ar1zAIAosBnGQK/7G3+WLl2qhQsXatOmTeF5s2bN0m233aaNGzdecXm/3y+fz6e6ujolJyePZKlREQwaag8G1REw1BHoet0eCKo9EFRH0HzdETDUEQyqPWCotSOolvaAWtoDau0IqrU9oJb2oFo7Iseh97uPWzrbh5fr9v5AbhY8VC6HXckep7zxcUqO7xx7nPK643qZf1mb+DgluZ1cEAEAMWS8//0eCMv2ALa1tWnfvn165JFHIuavWrVKu3fv7nWZ1tZWtba2hqf9fv+I1Pa7T0r1u0/KFDSkoGHIMCRDhoJBc9rMQkb4/aBhXlRgdGsfMVZku0CwK9CFAlx7Z4gLBbyOoDGioWuoXE67El0OJbicSnRfNnY5lOB2ht9PcjuV4HYo0eVUgsuhRPdlY5dTHpdD8XE8QQIAYC2WDYCVlZUKBALKzs6OmJ+dna2ysrJel9m4caOeeOKJEa/t07J6/ergxRH/nKFw2m1yOmyKc9gV57DLaTdfOx02Oe02uZ0OxcfZFR/nkNsZOQ69dkfMs4eX6XdZp0MJbofiOPcNAICrZtkAGHL5+VeGYfR5Ttajjz6qdevWhaf9fr8KCgqGvaYbp2Uqye2U3WaT3WbW2DW2yWZTeNomme3s5lih6fAyXcuFpu02W1d4c9oVZ7d3hjqbnOHX9nCwC73vtNs4Xw0AgHHAsgEwIyNDDoejR29feXl5j17BELfbLbfbPeK1LSpM1aLC1BH/HAAAYE2WPZ7mcrm0aNEibd++PWL+9u3btXz58ihVBQAAMPIs2wMoSevWrdPdd9+txYsXa9myZdq8ebNKSkp0//33R7s0AACAEWPpAPj1r39dVVVVevLJJ1VaWqq5c+fqt7/9rQoLC6NdGgAAwIix9H0Arxb3EQIAIPbw99vC5wACAABYFQEQAADAYgiAAAAAFkMABAAAsBgCIAAAgMUQAAEAACyGAAgAAGAxBEAAAACLIQACAABYjKUfBXe1Qg9R8fv9Ua4EAAAMVOjvtpUfhkYAvAr19fWSpIKCgihXAgAABqu+vl4+ny/aZUQFzwK+CsFgUBcvXpTX65XNZhvWdfv9fhUUFOjcuXPj8jmFbF/sG+/byPbFvvG+jWzf0BmGofr6euXl5clut+bZcPQAXgW73a78/PwR/Yzk5ORxuWOHsH2xb7xvI9sX+8b7NrJ9Q2PVnr8Qa8ZeAAAACyMAAgAAWAwBcIxyu93627/9W7nd7miXMiLYvtg33reR7Yt9430b2T5cDS4CAQAAsBh6AAEAACyGAAgAAGAxBEAAAACLIQACAABYDAFwlLz44osqKipSfHy8Fi1apHfeeaff9jt37tSiRYsUHx+vyZMn66WXXurR5o033tDs2bPldrs1e/Zsbdu2baTKv6LBbN/WrVt1yy23KDMzU8nJyVq2bJnefvvtiDZbtmyRzWbrMbS0tIz0pvRpMNu4Y8eOXuv/9NNPI9rF6nd477339rp9c+bMCbcZS9/hrl27dOuttyovL082m02/+tWvrrhMLO2Dg92+WNwHB7uNsbYPDnb7Ym0f3Lhxo5YsWSKv16usrCzddtttOn78+BWXi6X9MNYQAEfB66+/rrVr1+qxxx7TgQMHdOONN2r16tUqKSnptf3p06f1la98RTfeeKMOHDig9evX63vf+57eeOONcJv3339fX//613X33Xfr0KFDuvvuu3XnnXfqww8/HK3NChvs9u3atUu33HKLfvvb32rfvn364he/qFtvvVUHDhyIaJecnKzS0tKIIT4+fjQ2qYfBbmPI8ePHI+qfNm1a+L1Y/g6ff/75iO06d+6c0tLS9LWvfS2i3Vj5DhsbGzVv3jy98MILA2ofa/vgYLcvFvfBwW5jSKzsg4PdvljbB3fu3KkHHnhAH3zwgbZv366Ojg6tWrVKjY2NfS4Ta/thzDEw4q677jrj/vvvj5g3c+ZM45FHHum1/fe//31j5syZEfO+853vGMXFxeHpO++80/iTP/mTiDZf/vKXjbvuumuYqh64wW5fb2bPnm088cQT4elXX33V8Pl8w1XiVRvsNv7xj380JBk1NTV9rnM8fYfbtm0zbDabcebMmfC8sfYdhkgytm3b1m+bWNsHuxvI9vVmrO+D3Q1kG2NtH+xuKN9hLO2DhmEY5eXlhiRj586dfbaJ5f0wFtADOMLa2tq0b98+rVq1KmL+qlWrtHv37l6Xef/993u0//KXv6y9e/eqvb293zZ9rXOkDGX7LhcMBlVfX6+0tLSI+Q0NDSosLFR+fr6++tWv9uidGC1Xs40LFixQbm6ubr75Zv3xj3+MeG88fYevvPKKvvSlL6mwsDBi/lj5DgcrlvbB4TDW98GrEQv74HCItX2wrq5Oknr85rqz2n442giAI6yyslKBQEDZ2dkR87Ozs1VWVtbrMmVlZb227+joUGVlZb9t+lrnSBnK9l3uH/7hH9TY2Kg777wzPG/mzJnasmWL3nzzTf385z9XfHy8rr/+en322WfDWv9ADGUbc3NztXnzZr3xxhvaunWrZsyYoZtvvlm7du0Ktxkv32Fpaaneeust/Y//8T8i5o+l73CwYmkfHA5jfR8ciljaB69WrO2DhmFo3bp1uuGGGzR37tw+21ltPxxtzmgXYBU2my1i2jCMHvOu1P7y+YNd50gaai0///nP9fjjj+vXv/61srKywvOLi4tVXFwcnr7++uu1cOFC/eM//qN+/OMfD1/hgzCYbZwxY4ZmzJgRnl62bJnOnTunv//7v9cXvvCFIa1zpA21li1btiglJUW33XZbxPyx+B0ORqztg0MVS/vgYMTiPjhUsbYPPvjggzp8+LDefffdK7a1yn4YDfQAjrCMjAw5HI4e/xopLy/v8a+WkJycnF7bO51Opaen99umr3WOlKFsX8jrr7+ub3/72/r3f/93felLX+q3rd1u15IlS6LyL9er2cbuiouLI+ofD9+hYRj653/+Z919991yuVz9to3mdzhYsbQPXo1Y2QeHy1jdB69GrO2DDz30kN5880398Y9/VH5+fr9trbIfRgsBcIS5XC4tWrRI27dvj5i/fft2LV++vNdlli1b1qP973//ey1evFhxcXH9tulrnSNlKNsnmb0O9957r1577TX96Z/+6RU/xzAMHTx4ULm5uVdd82ANdRsvd+DAgYj6Y/07lMwr+z7//HN9+9vfvuLnRPM7HKxY2geHKpb2weEyVvfBqxEr+6BhGHrwwQe1detW/b//9/9UVFR0xWWssB9G1ehec2JNv/jFL4y4uDjjlVdeMY4ePWqsXbvWSExMDF+t9cgjjxh33313uP2pU6eMhIQE46/+6q+Mo0ePGq+88ooRFxdn/PKXvwy3ee+99wyHw2H84Ac/MI4dO2b84Ac/MJxOp/HBBx+M+e177bXXDKfTafzkJz8xSktLw0NtbW24zeOPP2787ne/M06ePGkcOHDA+Na3vmU4nU7jww8/HPXtM4zBb+MPf/hDY9u2bcaJEyeMTz75xHjkkUcMScYbb7wRbhPL32HIN7/5TWPp0qW9rnMsfYf19fXGgQMHjAMHDhiSjOeee844cOCAcfbsWcMwYn8fHOz2xeI+ONhtjLV9cLDbFxIr++B3v/tdw+fzGTt27Ij4zTU1NYXbxPp+GGsIgKPkJz/5iVFYWGi4XC5j4cKFEZe+33PPPcaKFSsi2u/YscNYsGCB4XK5jEmTJhmbNm3qsc7/+I//MGbMmGHExcUZM2fOjPgf22gbzPatWLHCkNRjuOeee8Jt1q5da0ycONFwuVxGZmamsWrVKmP37t2juEU9DWYbn376aWPKlClGfHy8kZqaatxwww3Gf/7nf/ZYZ6x+h4ZhGLW1tYbH4zE2b97c6/rG0ncYuiVIX7+5WN8HB7t9sbgPDnYbY20fHMpvNJb2wd62TZLx6quvhtvE+n4Ya2yG0XlGJQAAACyBcwABAAAshgAIAABgMQRAAAAAiyEAAgAAWAwBEAAAwGIIgAAAABZDAAQAALAYAiAAAIDFEAABAAAshgAIAABgMQRAAAAAiyEAAgAAWAwBEAAAwGIIgAAAABZDAAQAALAYAiAAAIDFEAABAAAshgAIAABgMQRAAAAAiyEAAgAAWAwBEAAAwGIIgAAAABZDAAQAALAYAiAAAIDFEAABAAAshgAIAABgMQRAAAAAiyEAAgAAWAwBEAAAwGIIgAAAABZDAAQAALCY/w+mj/GDCno1KAAAAABJRU5ErkJggg==' width=640.0/>\n",
       "            </div>\n",
       "        "
      ],
      "text/plain": [
       "Canvas(toolbar=Toolbar(toolitems=[('Home', 'Reset original view', 'home', 'home'), ('Back', 'Back to previous …"
      ]
     },
     "metadata": {},
     "output_type": "display_data"
    }
   ],
   "source": [
    "create_plot1()"
   ]
  },
  {
   "cell_type": "markdown",
   "id": "62bf0e58",
   "metadata": {
    "slideshow": {
     "slide_type": "slide"
    }
   },
   "source": [
    "**Cauchy feladat** (differenciálegyenlet + kezdeti feltétel):\n",
    "\n",
    "$$\\begin{cases}y'(x)=f(x,y(x))\\\\y(x_0)=y_0\\end{cases}$$"
   ]
  },
  {
   "cell_type": "markdown",
   "id": "df1205c1",
   "metadata": {
    "slideshow": {
     "slide_type": "-"
    }
   },
   "source": [
    "A Cauchy-feladat **megoldása** a differenciálegyenlet egy **sajátos megoldása** lesz."
   ]
  },
  {
   "cell_type": "markdown",
   "id": "788660bd",
   "metadata": {
    "slideshow": {
     "slide_type": "fragment"
    }
   },
   "source": [
    "**Példa.**  $y'(x) = 2x$, $y(1)=2$."
   ]
  },
  {
   "cell_type": "markdown",
   "id": "7514feca",
   "metadata": {
    "slideshow": {
     "slide_type": "fragment"
    }
   },
   "source": [
    "A differenciálegyenlet általános megoldása $y(x)=x^2+C$. \n",
    "\n",
    "A kezdeti feltétel alapján $2=1^2+C$, ahonnan $C=1$. \n",
    "\n",
    "A Cauchy-feladat megoldása tehát $y(x)=x^2+1$."
   ]
  },
  {
   "cell_type": "code",
   "execution_count": 8,
   "id": "8b92d498",
   "metadata": {
    "slideshow": {
     "slide_type": "-"
    }
   },
   "outputs": [
    {
     "data": {
      "text/latex": [
       "$\\displaystyle y{\\left(x \\right)} = x^{2} + 1$"
      ],
      "text/plain": [
       "Eq(y(x), x**2 + 1)"
      ]
     },
     "execution_count": 8,
     "metadata": {},
     "output_type": "execute_result"
    }
   ],
   "source": [
    "dsolve(y(x).diff(x)-2*x, y(x),ics={y(1):2})             #ics (initial conditions): kezdeti feltételek"
   ]
  },
  {
   "cell_type": "markdown",
   "id": "e527db8d",
   "metadata": {
    "slideshow": {
     "slide_type": "slide"
    }
   },
   "source": [
    "<h3 style=\"background :Red; padding: 1%!important;\"> 1. Házi feladat. (2 pont)</h3>\n",
    "\n",
    "Határozd meg az $y'(x) = x\\cdot y(x)$, $y(0)=y_0$ Cauchy feladat megoldását minden $y_0\\in\\{-1,-0.8,\\dots,0.8,1\\}$ értékre, majd ábrázold a kapott megoldásokat! "
   ]
  },
  {
   "cell_type": "markdown",
   "id": "a5cc5c41",
   "metadata": {},
   "source": [
    "A következőhöz hasonló ábrát kell kapj:  \n",
    "![img]( data:image/png;base64,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)"
   ]
  },
  {
   "cell_type": "markdown",
   "id": "393274d7",
   "metadata": {
    "slideshow": {
     "slide_type": "slide"
    }
   },
   "source": [
    "## 2. A Newton-féle hűlési törvény\n",
    "\n",
    "Egy testet elhelyezünk egy állandó hőmérsékletű helységbe és vizsgáljuk a test hőmérsékletét az idő függvényében.\n",
    "\n",
    "**Törvény:** A test hőmérséklet változásának sebessége arányos a test hőmérséklete, illetve a helység hőmérséklete közötti különbséggel.\n",
    "\n",
    "Legyen $y(t)$ a test hőmérséklete a $t$. időpillanatban, $y_k$ a helység hőmérséklete. Ekkor\n",
    "$$y'(t)=-r(y(t)-y_k).$$\n",
    "\n",
    "A kapcsolódó feladatokban megoldjuk az egyenletet, a megadott adatok alapján pedig meghatározzuk az ismeretlen paramétereket. [videó](https://www.youtube.com/watch?v=PtiNT3bN1nk)"
   ]
  },
  {
   "cell_type": "markdown",
   "id": "6ab1b7af",
   "metadata": {
    "slideshow": {
     "slide_type": "slide"
    }
   },
   "source": [
    "<h3 style=\"background :Red; padding: 1%!important;\"> 2. Házi feladat. (2 pont)</h3>\n",
    "\n",
    "Egy $37^\\circ\\text{C}$-os krumplit elhelyezünk egy $12^\\circ\\text{C}$-os állandó hőmérsékletű pincébe. Tudva, hogy egy óra elteltével a krumpli $30^\\circ\\text{C}$-os, ábrázold a krumpli hőmérsékletét az idő függvényében az első 10 órában.\n",
    "\n",
    "**A megoldásban csak a megadott differenciálegyenlet, a feladat adatai és Python egyenlet megoldói használhatóak, papíron számolt megoldások, vagy levezetett képletek nem.**"
   ]
  },
  {
   "cell_type": "markdown",
   "id": "59aecae7",
   "metadata": {
    "slideshow": {
     "slide_type": "fragment"
    }
   },
   "source": [
    "<h3 style=\"background :Red; padding: 1%!important;\"> 3. Házi feladat. (2 pont)</h3> \n",
    "\n",
    "Egy $12^\\circ\\text{C}$-os állandó hőmérsékletű pincében déli 12:00-kor találtak egy $27^\\circ\\text{C}$-os holttestet. A holttest megtalálás után egy órával szintén megmérjük annak hőmérsékletét, ekkor az $22^\\circ\\text{C}$. Tudva, hogy a halál beálltakor a testhőmérséklet $37^\\circ\\text{C}$, határozd meg a halál beálltának pillanatát (óra, perc, másodperc). Ábrázold a test hőmérsékletét az idő függvényében a halál beálltának pillanatától a második mérésig.  \n",
    "A kapott görbén tüntesd fel a két mérésnek megfelelő pontokat. \n",
    "\n",
    "**A megoldásban csak a megadott differenciálegyenlet, a feladat adatai és Python egyenlet megoldói használhatóak, papíron számolt megoldások, vagy levezetett képletek nem.**"
   ]
  },
  {
   "cell_type": "markdown",
   "id": "70b49af2",
   "metadata": {
    "slideshow": {
     "slide_type": "slide"
    }
   },
   "source": [
    "## 3. Mozgással kapcsolatos feladatok"
   ]
  },
  {
   "cell_type": "markdown",
   "id": "d6f4cd08",
   "metadata": {},
   "source": [
    "Tételezzük fel, hogy a mozgás $x$ irányban történik egy egyenes mentén."
   ]
  },
  {
   "cell_type": "markdown",
   "id": "04d79b4c",
   "metadata": {
    "slideshow": {
     "slide_type": "fragment"
    }
   },
   "source": [
    "- **Pozíció:** $\\quad$ $x(t)$ – megadja, hogy melyik időpillanatban hol van a vizsgált test."
   ]
  },
  {
   "cell_type": "markdown",
   "id": "92f00a45",
   "metadata": {
    "slideshow": {
     "slide_type": "fragment"
    }
   },
   "source": [
    "- *Átlagsebesség:* $\\quad$ $\\displaystyle\\overline{v_x}=\\frac{\\Delta x}{\\Delta t}=\\frac{\\text{megtett út}}{\\text{idő}}$.  "
   ]
  },
  {
   "cell_type": "markdown",
   "id": "a7d525a0",
   "metadata": {
    "slideshow": {
     "slide_type": "fragment"
    }
   },
   "source": [
    "- **Sebesség:** $\\quad$ $\\displaystyle v_x(t)=\\lim_{\\Delta t\\to0}\\frac{\\Delta x}{\\Delta t}=\\lim_{\\Delta t\\to 0}\\frac{x(t+\\Delta t)-x(t)}{\\Delta t}=x'(t)$."
   ]
  },
  {
   "cell_type": "markdown",
   "id": "c54883c1",
   "metadata": {
    "hideOutput": true,
    "slideshow": {
     "slide_type": "fragment"
    }
   },
   "source": [
    "- **Gyorsulás:** $\\quad$ $a_x(t)=v_x'(t)=x''(t)$."
   ]
  },
  {
   "cell_type": "markdown",
   "id": "9ec255ce",
   "metadata": {
    "slideshow": {
     "slide_type": "fragment"
    }
   },
   "source": [
    "Tetszőleges háromdimenziós mozgás esetén:\n",
    "\n",
    "$\\quad\\bullet$ a pozíció:   $\\vec{r}(t)=(x(t),y(t),z(t))$;  \n",
    "$\\quad\\bullet$ a sebesség: $\\vec{v}(t)=(v_x(t),v_y(t),v_z(t))=(x'(t),y'(t),z'(t))$;  \n",
    "$\\quad\\bullet$ a gyorsulás: $\\vec{a}(t)=(a_x(t),a_y(t),a_z(t))=(x''(t),y''(t),z''(t))$."
   ]
  },
  {
   "cell_type": "markdown",
   "id": "e4144af5",
   "metadata": {
    "slideshow": {
     "slide_type": "slide"
    }
   },
   "source": [
    "**Newton második törvénye:** $\\quad$ $F=m\\cdot a,$"
   ]
  },
  {
   "cell_type": "markdown",
   "id": "feaf73f4",
   "metadata": {
    "slideshow": {
     "slide_type": "fragment"
    }
   },
   "source": [
    "vagyis *erő* $=$ *tömeg* $\\times$ *gyorsulás*. "
   ]
  },
  {
   "cell_type": "markdown",
   "id": "7b961b97",
   "metadata": {
    "slideshow": {
     "slide_type": "fragment"
    }
   },
   "source": [
    "Ez igazából egy **másodrendű** differenciálegyenlet: $F=m\\cdot x''.$"
   ]
  },
  {
   "cell_type": "markdown",
   "id": "983d7815",
   "metadata": {
    "slideshow": {
     "slide_type": "fragment"
    }
   },
   "source": [
    "Ha ismerjük  \n",
    "az $x(0)=x_0$ kezdőpozíciót,  \n",
    "az $x'(0)=v_{x_0}$ kezdősebességet,  \n",
    "akkor megoldva a kapott Cauchy-feladatot megadhatjuk a test mozgását."
   ]
  },
  {
   "cell_type": "markdown",
   "id": "5e819a08",
   "metadata": {
    "slideshow": {
     "slide_type": "slide"
    }
   },
   "source": [
    "### 3.1. Szabadesés"
   ]
  },
  {
   "cell_type": "markdown",
   "id": "044c7728",
   "metadata": {
    "slideshow": {
     "slide_type": "-"
    }
   },
   "source": [
    "Egy $m$ tömegű testet $H$ magasságból szabadon engedünk.  \n",
    "Határozzuk meg a test mozgását! (A közegellenállástól eltekintünk.)"
   ]
  },
  {
   "cell_type": "markdown",
   "id": "abbbe6bc",
   "metadata": {
    "slideshow": {
     "slide_type": "fragment"
    }
   },
   "source": [
    "**Megoldás.** Jelölje $y(t)$ a test magasságát az idő függvényében. A testre csak a **gravitációs erő** hat:"
   ]
  },
  {
   "cell_type": "markdown",
   "id": "33eebb85",
   "metadata": {
    "slideshow": {
     "slide_type": "fragment"
    }
   },
   "source": [
    "$G=-m\\cdot g,\\quad$ ahol $g=9{,}81\\text{m}/\\text{s}^2$ a *gravitációs gyorsulás.*  Az erő \"lefele\" hat, ezért a mínusz."
   ]
  },
  {
   "cell_type": "markdown",
   "id": "c8a93d51",
   "metadata": {
    "slideshow": {
     "slide_type": "fragment"
    }
   },
   "source": [
    "Newton második törvénye alapján\n",
    "$-m\\cdot g = m\\cdot y''(t),$\n",
    "vagyis $y''(t)=-g.$ "
   ]
  },
  {
   "cell_type": "markdown",
   "id": "1d475218",
   "metadata": {
    "slideshow": {
     "slide_type": "fragment"
    }
   },
   "source": [
    "A feladat szövege alapján $y(0)=H$.    \n",
    "Mivel szabadesésről van szó ezért $y'(0)=0$."
   ]
  },
  {
   "cell_type": "markdown",
   "id": "ca329e82",
   "metadata": {
    "slideshow": {
     "slide_type": "fragment"
    }
   },
   "source": [
    "**Észrevétel:** A mozgás nem függ a tömegtől.\n"
   ]
  },
  {
   "cell_type": "markdown",
   "id": "5c7e7741",
   "metadata": {
    "slideshow": {
     "slide_type": "slide"
    }
   },
   "source": [
    "A kapott Cauchy-feladat tehát\n",
    "$$\\begin{cases}y''(t)=-g\\\\y(0)=H\\\\y'(0)=0\\end{cases},$$\n",
    "aminek a megoldása a következő."
   ]
  },
  {
   "cell_type": "code",
   "execution_count": 3,
   "id": "e49ee09e",
   "metadata": {
    "slideshow": {
     "slide_type": "fragment"
    }
   },
   "outputs": [
    {
     "data": {
      "text/latex": [
       "$\\displaystyle y{\\left(t \\right)} = H - \\frac{g t^{2}}{2}$"
      ],
      "text/plain": [
       "Eq(y(t), H - g*t**2/2)"
      ]
     },
     "execution_count": 3,
     "metadata": {},
     "output_type": "execute_result"
    }
   ],
   "source": [
    "y = Function('y')\n",
    "t = Symbol('t')\n",
    "g = Symbol('g')\n",
    "H = Symbol('H')\n",
    "dsolve(y(t).diff(t,2)+g,ics={y(0): H, y(t).diff(t).subs(t,0): 0})"
   ]
  },
  {
   "cell_type": "markdown",
   "id": "1df9c7f8",
   "metadata": {
    "slideshow": {
     "slide_type": "slide"
    }
   },
   "source": [
    "<h3 style=\"background :Red; padding: 1%!important;\"> 4. Házi feladat. (2 pont)</h3>\n",
    "\n",
    "    \n",
    "Szabadon engedünk $H=10m$ magasságból egy testet. \n",
    "\n",
    "$\\quad$ a) Határozd meg és írasd ki az $y(t)$ függvényt, vagyis a test magasságát az idő függvényében!   \n",
    "\n",
    "$\\quad$ b) Határozd meg azt a $t_\\text{max}$ időpillanatot, amikor a test földet ér!  \n",
    "\n",
    "$\\quad$ c) Ábrázold a test magasságát az idő függvényében a $[0,t_\\text{max}]$ intervallumon!\n",
    "\n",
    "A közegellenállástól eltekintünk és legyen $g=9{,}81 m/s^2$.\n",
    "\n",
    "**A megoldásban csak a megadott differenciálegyenlet, a feladat adatai és Python egyenlet megoldói használhatóak, papíron számolt megoldások, vagy levezetett képletek nem.**"
   ]
  },
  {
   "cell_type": "markdown",
   "id": "e42815af",
   "metadata": {
    "slideshow": {
     "slide_type": "slide"
    }
   },
   "source": [
    "### 3.2. Ferde hajítás"
   ]
  },
  {
   "cell_type": "markdown",
   "id": "687bd629",
   "metadata": {
    "slideshow": {
     "slide_type": "fragment"
    }
   },
   "source": [
    "Egy $m$ tömegű testet, az $(x_0,y_0)$ kezdőpozícióból $v_0$ sebességgel $\\alpha$ szög alatt elhajítunk.  \n",
    "Határozzuk meg a test mozgását.  (A közegellenállástól eltekintünk.)"
   ]
  },
  {
   "cell_type": "code",
   "execution_count": 4,
   "id": "b1e2c01c",
   "metadata": {
    "hideCode": true,
    "slideshow": {
     "slide_type": "skip"
    }
   },
   "outputs": [],
   "source": [
    "from matplotlib.patches import Arc\n",
    "\n",
    "def create_plot2():\n",
    "    center = np.array([0.3,0.3])\n",
    "    radius = 0.05\n",
    "    alpha = np.pi/6\n",
    "    vec = 0.6*np.array([np.cos(alpha),np.sin(alpha)])    \n",
    "    fig,ax = plt.subplots()\n",
    "    ax.set_aspect(\"equal\")\n",
    "    ax.set_xlim(0,1)\n",
    "    ax.set_ylim(0,1)\n",
    "    ax.add_patch(plt.Circle(center,radius,color=\"r\"))\n",
    "    ax.arrow(center[0],center[1],vec[0],vec[1],length_includes_head=True,head_width=0.02,color=\"black\")\n",
    "    ax.arrow(center[0],center[1],vec[0],0,length_includes_head=True,head_width=0.02,color=\"gray\")\n",
    "    ax.arrow(center[0],center[1],0,vec[1],length_includes_head=True,head_width=0.02,color=\"gray\")\n",
    "    ax.plot([center[0]+vec[0],center[0]+vec[0]],[center[1],center[1]+vec[1]],color='gray',linestyle=\"dashed\")\n",
    "    ax.plot([center[0],center[0]+vec[0]],[center[1]+vec[1],center[1]+vec[1]],color='gray',linestyle=\"dashed\")\n",
    "    ax.text(center[0]+vec[0]/2,center[1]-0.05,\"${v_0}_x$\")\n",
    "    ax.text(center[0]-0.07,center[1]+vec[1]/2,\"${v_0}_y$\")\n",
    "    ax.text(center[0]+vec[0]/2,center[1]+vec[1]/2+0.04,\"$v_0$\")\n",
    "    ax.add_patch(Arc(center,0.3,0.3,0,0,alpha*180/np.pi))\n",
    "    ax.text(center[0]+0.17*np.cos(alpha/2),center[1]+0.17*np.sin(alpha/2),\"$\\\\alpha$\")\n",
    "    ax.plot([center[0],center[0]],[center[1],0],color='gray',linestyle=\"dashed\",linewidth=1)\n",
    "    ax.plot([center[0],0],[center[1],center[1]],color='gray',linestyle=\"dashed\",linewidth=1)\n",
    "    ax.text(-0.06,center[1],\"$y_0$\",color=\"red\")\n",
    "    ax.text(center[0]-0.02,-0.05,\"$x_0$\",color=\"red\");"
   ]
  },
  {
   "cell_type": "code",
   "execution_count": 5,
   "id": "65a14f67",
   "metadata": {
    "slideshow": {
     "slide_type": "fragment"
    }
   },
   "outputs": [
    {
     "name": "stderr",
     "output_type": "stream",
     "text": [
      "C:\\Users\\norbi\\AppData\\Local\\Temp\\ipykernel_3320\\420529360.py:21: MatplotlibDeprecationWarning: Passing the angle parameter of __init__() positionally is deprecated since Matplotlib 3.6; the parameter will become keyword-only two minor releases later.\n",
      "  ax.add_patch(Arc(center,0.3,0.3,0,0,alpha*180/np.pi))\n"
     ]
    },
    {
     "data": {
      "application/vnd.jupyter.widget-view+json": {
       "model_id": "9fcb890f0c5d499cbf815fb5dbaa7be7",
       "version_major": 2,
       "version_minor": 0
      },
      "image/png": "[encoded data removed]",
      "text/html": [
       "\n",
       "            <div style=\"display: inline-block;\">\n",
       "                <div class=\"jupyter-widgets widget-label\" style=\"text-align: center;\">\n",
       "                    Figure\n",
       "                </div>\n",
       "                <img src='data:image/png;base64,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' width=640.0/>\n",
       "            </div>\n",
       "        "
      ],
      "text/plain": [
       "Canvas(toolbar=Toolbar(toolitems=[('Home', 'Reset original view', 'home', 'home'), ('Back', 'Back to previous …"
      ]
     },
     "metadata": {},
     "output_type": "display_data"
    }
   ],
   "source": [
    "create_plot2()"
   ]
  },
  {
   "cell_type": "markdown",
   "id": "2d65df1d",
   "metadata": {
    "slideshow": {
     "slide_type": "slide"
    }
   },
   "source": [
    "A kapott Cauchy-feladatok: $$\\begin{cases}x''(t)=0,\\\\x(0)=x_0,\\\\x'(0)=v_0\\cos(\\alpha),\\end{cases}\\qquad\\text{és}\\qquad\\begin{cases}y''(t)=-g,\\\\y(0)=y_0,\\\\y'(0)=v_0\\sin(\\alpha).\\end{cases}$$"
   ]
  },
  {
   "cell_type": "markdown",
   "id": "622f7265",
   "metadata": {
    "slideshow": {
     "slide_type": "fragment"
    }
   },
   "source": [
    "<h3 style=\"background :Red; padding: 1%!important;\"> 5. Házi feladat. (+2 pont)</h3>\n",
    "\n",
    "    \n",
    "A $(0,20)$ koordinátájú pontból $v_0=5\\text{ m}/\\text{s}$ kezdősebességgel $\\alpha=30^\\circ$-os szög alatt eldobunk egy testet.\n",
    "\n",
    "$\\quad$ a) Határozd meg és írasd ki az $x(t)$ és $y(t)$ függvényeket!   \n",
    "\n",
    "$\\quad$ b) Határozd meg azt a $t_\\text{max}$ időpillanatot, amikor a test földet ér!  \n",
    "\n",
    "$\\quad$ c) Ábrázold a test $(x(t),y(t))$ pályáját $[0,t_\\text{max}]$ intervallumon!\n",
    "\n",
    "A közegellenállástól eltekintünk és legyen $g=9{,}81 m/s^2$.\n",
    "\n",
    "**A megoldásban csak a megadott differenciálegyenlet, a feladat adatai és Python egyenlet megoldói használhatóak, papíron számolt megoldások, vagy levezetett képletek nem.**"
   ]
  },
  {
   "cell_type": "markdown",
   "id": "f1d4f89d",
   "metadata": {
    "slideshow": {
     "slide_type": "slide"
    }
   },
   "source": [
    "## 3.3. Rugóra illesztett test"
   ]
  },
  {
   "cell_type": "markdown",
   "id": "fc28689e",
   "metadata": {
    "slideshow": {
     "slide_type": "fragment"
    }
   },
   "source": [
    "Egy vízszintes asztallapon egy $k$ rugóállandójú rugó egyik végét rögzítjük, a másik végére ráerősítünk egy $m$ tömegű testet. A testet kimozdítjuk, majd elengedjük.  \n",
    "Határozzuk meg a test mozgását!  (Az asztallap és a test közötti súrlódástól eltekintünk.)"
   ]
  },
  {
   "cell_type": "markdown",
   "id": "8a7cfad2",
   "metadata": {
    "slideshow": {
     "slide_type": "fragment"
    }
   },
   "source": [
    "**Megoldás.** Az asztallap részéről ható *tartóerő* kiegyensúlyozza a testre ható *gravitációs erőt*, emiatt csak vízszintes mozgás van."
   ]
  },
  {
   "cell_type": "markdown",
   "id": "9ef1a3ad",
   "metadata": {
    "slideshow": {
     "slide_type": "fragment"
    }
   },
   "source": [
    "Jelölje $x(t)$ a test pozícióját a nyugalmi helyzethez viszonyítva ($x=0$, ha a rugó nincs megnyújtva).  \n",
    "Legyen $x(0)=x_0$, a feladat szövege alapján $x'(0)=0$."
   ]
  },
  {
   "cell_type": "markdown",
   "id": "f23e7831",
   "metadata": {
    "slideshow": {
     "slide_type": "fragment"
    }
   },
   "source": [
    "A testre vízszintes irányban csak a **rugalmassági erő** hat:  \n",
    "$F_r=-k\\cdot x,\\quad$ ahol $k$ a rugóálladó."
   ]
  },
  {
   "cell_type": "markdown",
   "id": "73f0ce43",
   "metadata": {
    "slideshow": {
     "slide_type": "slide"
    }
   },
   "source": [
    "A kapott Cauchy-feladat:\n",
    "$$\\begin{cases}m\\cdot x''(t)=-k\\cdot x(t),\\\\x(0)=x_0,\\\\x'(0)=0.\\end{cases}$$\n"
   ]
  },
  {
   "cell_type": "markdown",
   "id": "ad15fb36",
   "metadata": {
    "slideshow": {
     "slide_type": "fragment"
    }
   },
   "source": [
    "<h3 style=\"background :Red; padding: 1%!important;\"> 6. Házi feladat. (2 pont)</h3>\n",
    "\n",
    "Egy vízszintes asztallapon egy $k=1N/m$ rugóállandójú rugó egyik végét rögzítjük, a másik végére ráerősítünk egy $m=1 kg$ tömegű testet. A testet kimozdítjuk $x_0=0{,}5$ méterrel, majd elengedjük.\n",
    "\n",
    "$\\quad$ a) Határozd meg és írasd ki az $x(t)$ függvényt!   \n",
    "\n",
    "$\\quad$ b) Határozd meg azt a $t_2$ időpillanatot, amikor a test másodszor kerül az $x=0$ pozícióba!  \n",
    "\n",
    "$\\quad$ c) Ábrázold az  $x(t)$ függvényt a $[0,t_2]$ intervallumon!\n",
    "\n",
    "Az asztallap és a test közötti súrlódástól eltekintünk.\n",
    "\n",
    "**A megoldásban csak a megadott differenciálegyenlet, a feladat adatai és Python egyenlet megoldói használhatóak, papíron számolt megoldások, vagy levezetett képletek nem.**\n"
   ]
  },
  {
   "cell_type": "code",
   "execution_count": null,
   "id": "1f8a3b56",
   "metadata": {},
   "outputs": [],
   "source": []
  }
 ],
 "metadata": {
  "celltoolbar": "Slideshow",
  "kernelspec": {
   "display_name": "Python 3 (ipykernel)",
   "language": "python",
   "name": "python3"
  },
  "language_info": {
   "codemirror_mode": {
    "name": "ipython",
    "version": 3
   },
   "file_extension": ".py",
   "mimetype": "text/x-python",
   "name": "python",
   "nbconvert_exporter": "python",
   "pygments_lexer": "ipython3",
   "version": "3.11.5"
  }
 },
 "nbformat": 4,
 "nbformat_minor": 5
}
